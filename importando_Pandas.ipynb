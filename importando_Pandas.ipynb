{
  "cells": [
    {
      "cell_type": "markdown",
      "metadata": {
        "id": "view-in-github",
        "colab_type": "text"
      },
      "source": [
        "<a href=\"https://colab.research.google.com/github/grazz00/Grazz00/blob/main/importando_Pandas.ipynb\" target=\"_parent\"><img src=\"https://colab.research.google.com/assets/colab-badge.svg\" alt=\"Open In Colab\"/></a>"
      ]
    },
    {
      "cell_type": "markdown",
      "metadata": {
        "id": "x3xu8vKe7cAD"
      },
      "source": [
        "Importando o pandas"
      ]
    },
    {
      "cell_type": "code",
      "execution_count": null,
      "metadata": {
        "id": "irKGARSWuKt9"
      },
      "outputs": [],
      "source": [
        "import pandas as pd"
      ]
    },
    {
      "cell_type": "markdown",
      "metadata": {
        "id": "Hmz2dqtO7p0L"
      },
      "source": [
        "trabalhando com series\n"
      ]
    },
    {
      "cell_type": "code",
      "execution_count": null,
      "metadata": {
        "id": "vLZWY0ZZ7jh7"
      },
      "outputs": [],
      "source": [
        "lista = ([4, 5 ,6 ,8])"
      ]
    },
    {
      "cell_type": "code",
      "execution_count": null,
      "metadata": {
        "id": "5PyAkc1k8N9R"
      },
      "outputs": [],
      "source": [
        "serieA = pd.Series(lista)"
      ]
    },
    {
      "cell_type": "code",
      "execution_count": null,
      "metadata": {
        "colab": {
          "base_uri": "https://localhost:8080/"
        },
        "id": "eKFRzlX87xci",
        "outputId": "92eb15e8-f8c1-4652-a223-16958f73a62d"
      },
      "outputs": [
        {
          "data": {
            "text/plain": [
              "0    4\n",
              "1    5\n",
              "2    6\n",
              "3    8\n",
              "dtype: int64"
            ]
          },
          "execution_count": 19,
          "metadata": {},
          "output_type": "execute_result"
        }
      ],
      "source": [
        "serieA"
      ]
    },
    {
      "cell_type": "code",
      "execution_count": null,
      "metadata": {
        "id": "TP_QV8SD-ZBO"
      },
      "outputs": [],
      "source": [
        "serieA = pd.Series (lista, index = ['a', 'b', 'c', 'd'])"
      ]
    },
    {
      "cell_type": "code",
      "execution_count": null,
      "metadata": {
        "colab": {
          "base_uri": "https://localhost:8080/"
        },
        "id": "CZr8QpPc-tho",
        "outputId": "7b80eda8-acb5-4065-a3e2-2ce7dc06baf1"
      },
      "outputs": [
        {
          "data": {
            "text/plain": [
              "a    4\n",
              "b    5\n",
              "c    6\n",
              "d    8\n",
              "dtype: int64"
            ]
          },
          "execution_count": 21,
          "metadata": {},
          "output_type": "execute_result"
        }
      ],
      "source": [
        "serieA"
      ]
    },
    {
      "cell_type": "code",
      "execution_count": null,
      "metadata": {
        "colab": {
          "background_save": true,
          "base_uri": "https://localhost:8080/"
        },
        "id": "K5UzZHtdBeEa",
        "outputId": "5f81bf5d-9654-4750-adc3-a2108e14e278"
      },
      "outputs": [
        {
          "name": "stdout",
          "output_type": "stream",
          "text": [
            "0\n",
            "0\n",
            "0\n",
            "0\n"
          ]
        }
      ],
      "source": [
        "num = 1\n",
        "for i in lista:\n",
        "  num + 1\n",
        "  print(i)"
      ]
    }
  ],
  "metadata": {
    "colab": {
      "provenance": [],
      "authorship_tag": "ABX9TyM9w9YyL1KPXK7ndLwAwcQO",
      "include_colab_link": true
    },
    "kernelspec": {
      "display_name": "Python 3",
      "name": "python3"
    },
    "language_info": {
      "name": "python"
    }
  },
  "nbformat": 4,
  "nbformat_minor": 0
}